{
 "cells": [
  {
   "cell_type": "code",
   "execution_count": 2,
   "metadata": {},
   "outputs": [],
   "source": [
    "import os"
   ]
  },
  {
   "cell_type": "code",
   "execution_count": 3,
   "metadata": {},
   "outputs": [
    {
     "data": {
      "text/plain": [
       "['ERR10039720_pe',\n",
       " 'ERR10109718_pe',\n",
       " 'ERR10039716_pe',\n",
       " 'ERR10039718_pe',\n",
       " 'ERR10039719_pe',\n",
       " 'ERR10039723_pe',\n",
       " 'ERR10039715_pe']"
      ]
     },
     "execution_count": 3,
     "metadata": {},
     "output_type": "execute_result"
    }
   ],
   "source": [
    "# Get the list of all files and directories\n",
    "path = \"results/snippy_pe/\"\n",
    "dir_list = os.listdir(path)\n",
    "dir_list"
   ]
  },
  {
   "cell_type": "code",
   "execution_count": 7,
   "metadata": {},
   "outputs": [
    {
     "data": {
      "text/plain": [
       "0"
      ]
     },
     "execution_count": 7,
     "metadata": {},
     "output_type": "execute_result"
    }
   ],
   "source": [
    "for file in dir_list:\n",
    "    file_path = path+file\n",
    "    file_dir = os.listdir(file_path)\n",
    "    if \"snps.consensus.fa\" in file_dir:\n",
    "        with open(file_path+\"/\"+\"snps.consensus.fa\") as f:\n",
    "            lines = f.readlines()\n",
    "            lines[0] = f\">{file[:-3]}_SARS_COV_2\\n\"\n",
    "            with open(\"results/concat/\"+lines[0][1:]+\"consensus.fasta\", \"w\") as w:\n",
    "                w.writelines(lines)\n",
    "os.system(\"cat results/concat/* > results/concat/multifile.fasta\")"
   ]
  }
 ],
 "metadata": {
  "kernelspec": {
   "display_name": "Python 3.10.6 ('read-quality-analysis')",
   "language": "python",
   "name": "python3"
  },
  "language_info": {
   "codemirror_mode": {
    "name": "ipython",
    "version": 3
   },
   "file_extension": ".py",
   "mimetype": "text/x-python",
   "name": "python",
   "nbconvert_exporter": "python",
   "pygments_lexer": "ipython3",
   "version": "3.10.6"
  },
  "orig_nbformat": 4,
  "vscode": {
   "interpreter": {
    "hash": "1eaaecc0fc7cad8928217b3a8ae4fce6109b301cc421d7441f96db6be3aa0483"
   }
  }
 },
 "nbformat": 4,
 "nbformat_minor": 2
}
