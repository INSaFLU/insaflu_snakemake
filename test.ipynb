{
 "cells": [
  {
   "cell_type": "code",
   "execution_count": 1,
   "metadata": {},
   "outputs": [],
   "source": [
    "class Abricate_Pangolin:\n",
    "    def __init__(self, abricate_output, output, project):\n",
    "        self.abricate_output = abricate_output\n",
    "        self.output = output\n",
    "        self.project = project\n",
    "\n",
    "    def __call__(self, w):\n",
    "        global checkpoints\n",
    "\n",
    "        checkpoints.abricate_pangolin.get(**w)\n",
    "\n",
    "        return self.get_output()\n",
    "\n",
    "    def get_output(self):\n",
    "        abricate_dic = {\"Genus\":\"da\", \"Species\":\"da\"}\n",
    "        go_pangolin = bool(abricate_dic.get(\"Species\") or abricate_dic.get(\"Genus\"))\n",
    "        print(go_pangolin)\n",
    "        pattern = (\n",
    "            self.output\n",
    "            if go_pangolin\n",
    "            else \"projects/{self.project}/main_result/not_pangolin.csv\"\n",
    "        )\n",
    "        return pattern\n"
   ]
  },
  {
   "cell_type": "code",
   "execution_count": 12,
   "metadata": {},
   "outputs": [
    {
     "name": "stdout",
     "output_type": "stream",
     "text": [
      "<__main__.Abricate_Pangolin object at 0x7fe807661ed0>\n"
     ]
    }
   ],
   "source": [
    "print(Abricate_Pangolin(\n",
    "                   \"first\",\"second\",\"third\"\n",
    "                ))"
   ]
  }
 ],
 "metadata": {
  "kernelspec": {
   "display_name": "Python 3.10.6 ('insaflu')",
   "language": "python",
   "name": "python3"
  },
  "language_info": {
   "codemirror_mode": {
    "name": "ipython",
    "version": 3
   },
   "file_extension": ".py",
   "mimetype": "text/x-python",
   "name": "python",
   "nbconvert_exporter": "python",
   "pygments_lexer": "ipython3",
   "version": "3.10.6"
  },
  "orig_nbformat": 4,
  "vscode": {
   "interpreter": {
    "hash": "1358ab5cc9fad31f5aa8938f4d80c7fc1c7ab655fec6b753e75fda91ebbb6fc0"
   }
  }
 },
 "nbformat": 4,
 "nbformat_minor": 2
}
