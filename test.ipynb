{
 "cells": [
  {
   "cell_type": "code",
   "execution_count": 1,
   "metadata": {},
   "outputs": [
    {
     "name": "stdout",
     "output_type": "stream",
     "text": [
      "Length SnakeMake 177\n",
      "Length INSaFLU 175\n",
      "Matches  145\n"
     ]
    }
   ],
   "source": [
    "import csv\n",
    "import sys\n",
    "\n",
    "\n",
    "def get_clean_vcf_snake(file_name, remove_dot):\n",
    "    final_list = []\n",
    "    with open(file_name) as handler:\n",
    "        reader = csv.reader(handler)\n",
    "        snakemake_vcf = list(reader)\n",
    "    if remove_dot:\n",
    "        for row in snakemake_vcf[1:]:\n",
    "            final_list.append(f\"{row[0]}_{row[1][:row[1].index('.')]}_{row[2]}_{row[4]}_{row[5]}\")\n",
    "        return final_list\n",
    "    else:\n",
    "        for row in snakemake_vcf[1:]:\n",
    "            final_list.append(f\"{row[0]}_{row[1]}_{row[2]}_{row[4]}_{row[5]}\")\n",
    "        return final_list\n",
    "\n",
    "def get_clean_tsv_vcf_insaflu(file_name):\n",
    "    insaflu_vcf = []\n",
    "    final_list = []\n",
    "    with open(file_name) as handler:\n",
    "        for row in handler.readlines()[1:]:\n",
    "            insaflu_vcf.append(row.replace('\"', '').split(\"\\t\"))\n",
    "    for row in insaflu_vcf:\n",
    "        final_list.append(f\"{row[0]}_{row[1]}_{row[2]}_{row[4]}_{row[5]}\")\n",
    "    return final_list\n",
    "\n",
    "def get_clean_csv_vcf_insaflu(file_name):\n",
    "    final_list = []\n",
    "    with open(file_name) as handler:\n",
    "        reader = csv.reader(handler)\n",
    "        snakemake_vcf = list(reader)\n",
    "    for row in snakemake_vcf[1:]:\n",
    "        final_list.append(f\"{row[0]}_{row[1]}_{row[2]}_{row[4]}_{row[5]}\")\n",
    "    return final_list\n",
    "\n",
    "snakemake_file = sys.argv[1]\n",
    "insaflu_file = sys.argv[2]\n",
    "remove = sys.argv[3]\n",
    "\n",
    "snakemake = get_clean_vcf_snake(snakemake_file, False) if remove == 'false' else get_clean_vcf_snake(snakemake_file, True)\n",
    "insaflu = get_clean_csv_vcf_insaflu(insaflu_file) if insaflu_file[-3:] == 'csv' else get_clean_tsv_vcf_insaflu(insaflu_file) \n",
    "\n",
    "count = 0\n",
    "for row in snakemake:\n",
    "    for row_2 in insaflu:\n",
    "        # print(row,row_2)\n",
    "        if row == row_2:\n",
    "            count+=1\n",
    "print('Length SnakeMake', len(snakemake))\n",
    "print('Length INSaFLU', len(insaflu))\n",
    "print('Matches ', count)\n"
   ]
  },
  {
   "cell_type": "code",
   "execution_count": 4,
   "metadata": {},
   "outputs": [
    {
     "data": {
      "text/plain": [
       "'csv'"
      ]
     },
     "execution_count": 4,
     "metadata": {},
     "output_type": "execute_result"
    }
   ],
   "source": [
    "insaflu_file = \"assfsfsdf_sfdsdfsf.csv\"\n",
    "insaflu_file[-3:]"
   ]
  }
 ],
 "metadata": {
  "kernelspec": {
   "display_name": "Python 3.10.6 ('insaflu')",
   "language": "python",
   "name": "python3"
  },
  "language_info": {
   "codemirror_mode": {
    "name": "ipython",
    "version": 3
   },
   "file_extension": ".py",
   "mimetype": "text/x-python",
   "name": "python",
   "nbconvert_exporter": "python",
   "pygments_lexer": "ipython3",
   "version": "3.10.6"
  },
  "orig_nbformat": 4,
  "vscode": {
   "interpreter": {
    "hash": "1358ab5cc9fad31f5aa8938f4d80c7fc1c7ab655fec6b753e75fda91ebbb6fc0"
   }
  }
 },
 "nbformat": 4,
 "nbformat_minor": 2
}
