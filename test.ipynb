{
 "cells": [
  {
   "cell_type": "code",
   "execution_count": 24,
   "metadata": {},
   "outputs": [
    {
     "name": "stdout",
     "output_type": "stream",
     "text": [
      "MT903344.1\n",
      "NC_001803.1\n",
      "MN908947.3\n",
      "VERSION\n",
      "VERSION\n",
      "VERSION\n"
     ]
    }
   ],
   "source": [
    "from Bio import SeqIO\n",
    "\n",
    "def get_id_version(genbank_file):\n",
    "    \"\"\"\n",
    "    The get_locus function takes a genbank file and returns the locus number of that record.\n",
    "    If there is only one record in the genbank file, it will return the possible_name. If there are multiple records,\n",
    "    it will return a list of all locus numbers.\n",
    "\n",
    "    :param genbank_file: Open the genbank file, and then parse it using seqio\n",
    "    :param possible_name: Determine if the file is a single genbank file or not\n",
    "    :return: A list of locus numbers\n",
    "    :doc-author: Trelent\n",
    "    \"\"\"\n",
    "    handle_gb = open(genbank_file)\n",
    "    for line in handle_gb:\n",
    "        if 'VERSION' in line:\n",
    "            return (line.split(' ')[-1].strip())\n",
    "    \n",
    "print(get_id_version(\"/home/reusebio/tese/insaflu_snakemake/reference/monkeypox_MT903344_MPXV_UK_P2_wo_NN.gb\"))\n",
    "print(get_id_version(\"reference/RSV_A_strain_S2_ts1C_NC_001803.gb\"))\n",
    "print(get_id_version(\"/home/reusebio/tese/insaflu_snakemake/reference/SARS_CoV_2_COVID_19_Wuhan_Hu_1_MN908947.gbk\"))\n",
    "print(get_id_version(\"/home/reusebio/tese/insaflu_snakemake/reference/B_Vic_B_Brisbane_60_2008.gbk\"))\n",
    "print(get_id_version(\"reference/A_H3N2_A_Victoria_361_2011.gbk\"))\n",
    "print(get_id_version(\"reference/A_H3N2_A_Texas_50_2012.gbk\"))"
   ]
  },
  {
   "cell_type": "markdown",
   "metadata": {},
   "source": [
    "['__add__',\n",
    " '__bool__',\n",
    " '__class__',\n",
    " '__contains__',\n",
    " '__delattr__',\n",
    " '__dict__',\n",
    " '__dir__',\n",
    " '__doc__',\n",
    " '__eq__',\n",
    " '__format__',\n",
    " '__ge__',\n",
    " '__getattribute__',\n",
    " '__getitem__',\n",
    " '__gt__',\n",
    " '__hash__',\n",
    " '__init__',\n",
    " '__init_subclass__',\n",
    " '__iter__',\n",
    " '__le__',\n",
    " '__le___',\n",
    " '__len__',\n",
    " '__lt__',\n",
    " '__module__',\n",
    " '__ne__',\n",
    " '__new__',\n",
    " '__radd__',\n",
    " '__reduce__',\n",
    " '__reduce_ex__',\n",
    " '__repr__',\n",
    " '__setattr__',\n",
    " '__sizeof__',\n",
    " '__str__',\n",
    " '__subclasshook__',\n",
    " '__weakref__',\n",
    " '_per_letter_annotations',\n",
    " '_seq',\n",
    " '_set_per_letter_annotations',\n",
    " '_set_seq',\n",
    " 'annotations',\n",
    " 'dbxrefs',\n",
    " 'description',\n",
    " 'features',\n",
    " 'format',\n",
    " 'id',\n",
    " 'letter_annotations',\n",
    " 'lower',\n",
    " 'name',\n",
    " 'reverse_complement',\n",
    " 'seq',\n",
    " 'translate',\n",
    " 'upper']"
   ]
  },
  {
   "cell_type": "code",
   "execution_count": null,
   "metadata": {},
   "outputs": [],
   "source": []
  }
 ],
 "metadata": {
  "kernelspec": {
   "display_name": "Python 3.10.6 ('insaflu')",
   "language": "python",
   "name": "python3"
  },
  "language_info": {
   "codemirror_mode": {
    "name": "ipython",
    "version": 3
   },
   "file_extension": ".py",
   "mimetype": "text/x-python",
   "name": "python",
   "nbconvert_exporter": "python",
   "pygments_lexer": "ipython3",
   "version": "3.10.6"
  },
  "orig_nbformat": 4,
  "vscode": {
   "interpreter": {
    "hash": "1358ab5cc9fad31f5aa8938f4d80c7fc1c7ab655fec6b753e75fda91ebbb6fc0"
   }
  }
 },
 "nbformat": 4,
 "nbformat_minor": 2
}
