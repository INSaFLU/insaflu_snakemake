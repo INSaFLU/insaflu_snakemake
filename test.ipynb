{
 "cells": [
  {
   "cell_type": "code",
   "execution_count": 21,
   "metadata": {},
   "outputs": [
    {
     "name": "stdout",
     "output_type": "stream",
     "text": [
      "Length SnakeMake 175\n",
      "Length INSaFLU 175\n",
      "Matches  175\n"
     ]
    }
   ],
   "source": [
    "import csv\n",
    "\n",
    "from numpy import true_divide\n",
    "\n",
    "snake_bef = \"/home/reusebio/insaflu_snakemake/projects/INSAFLU_testing/main_result/\"\n",
    "insa_bef = \"/home/reusebio/insaflu_snakemake/\"\n",
    "\n",
    "file_name = \"validated_minor_iSNVs_inc_indels\"\n",
    "\n",
    "ext_csv = \".csv\"\n",
    "ext_tsv = \".tsv\"\n",
    "\n",
    "snakemake_file = \"/home/reusebio/insaflu_snakemake/projects/INSAFLU_testing/main_result/\" + file_name + ext_csv\n",
    "insaflu_file = \"/home/reusebio/insaflu_snakemake/\" + file_name + ext_csv\n",
    "\n",
    "def get_clean_vcf_snake(file_name, remove_dot):\n",
    "    final_list = []\n",
    "    with open(file_name) as handler:\n",
    "        reader = csv.reader(handler)\n",
    "        snakemake_vcf = list(reader)\n",
    "    if remove_dot:\n",
    "        for row in snakemake_vcf[1:]:\n",
    "            final_list.append(f\"{row[0]}_{row[1][:row[1].index('.')]}_{row[2]}_{row[4]}_{row[5]}\")\n",
    "        return final_list\n",
    "    else:\n",
    "        for row in snakemake_vcf[1:]:\n",
    "            final_list.append(f\"{row[0]}_{row[1]}_{row[2]}_{row[4]}_{row[5]}\")\n",
    "        return final_list\n",
    "\n",
    "def get_clean_tsv_vcf_insaflu(file_name):\n",
    "    insaflu_vcf = []\n",
    "    final_list = []\n",
    "    with open(file_name) as handler:\n",
    "        for row in handler.readlines()[1:]:\n",
    "            insaflu_vcf.append(row.replace('\"', '').split(\"\\t\"))\n",
    "    for row in insaflu_vcf:\n",
    "        final_list.append(f\"{row[0]}_{row[1]}_{row[2]}_{row[4]}_{row[5]}\")\n",
    "    return final_list\n",
    "\n",
    "def get_clean_csv_vcf_insaflu(file_name):\n",
    "    final_list = []\n",
    "    with open(file_name) as handler:\n",
    "        reader = csv.reader(handler)\n",
    "        snakemake_vcf = list(reader)\n",
    "    for row in snakemake_vcf[1:]:\n",
    "        final_list.append(f\"{row[0]}_{row[1]}_{row[2]}_{row[4]}_{row[5]}\")\n",
    "    return final_list\n",
    "\n",
    "snakemake = get_clean_vcf_snake(snakemake_file, False)\n",
    "insaflu = get_clean_csv_vcf_insaflu(insaflu_file)\n",
    "\n",
    "count = 0\n",
    "for row in snakemake:\n",
    "    for row_2 in insaflu:\n",
    "        # print(row,row_2)\n",
    "        if row == row_2:\n",
    "            count+=1\n",
    "print('Length SnakeMake', len(snakemake))\n",
    "print('Length INSaFLU', len(insaflu))\n",
    "print('Matches ', count)\n"
   ]
  }
 ],
 "metadata": {
  "kernelspec": {
   "display_name": "Python 3.10.6 ('insaflu')",
   "language": "python",
   "name": "python3"
  },
  "language_info": {
   "codemirror_mode": {
    "name": "ipython",
    "version": 3
   },
   "file_extension": ".py",
   "mimetype": "text/x-python",
   "name": "python",
   "nbconvert_exporter": "python",
   "pygments_lexer": "ipython3",
   "version": "3.10.6"
  },
  "orig_nbformat": 4,
  "vscode": {
   "interpreter": {
    "hash": "1358ab5cc9fad31f5aa8938f4d80c7fc1c7ab655fec6b753e75fda91ebbb6fc0"
   }
  }
 },
 "nbformat": 4,
 "nbformat_minor": 2
}
