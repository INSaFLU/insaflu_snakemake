{
 "cells": [
  {
   "cell_type": "code",
   "execution_count": 30,
   "metadata": {},
   "outputs": [
    {
     "data": {
      "text/plain": [
       "6480"
      ]
     },
     "execution_count": 30,
     "metadata": {},
     "output_type": "execute_result"
    }
   ],
   "source": [
    "list_depth = []\n",
    "list_positions = []\n",
    "with open(\"align_samples/Demo_Sample_103/medaka/snps.depth\") as depth:\n",
    "    for line in depth.readlines():\n",
    "            _,position,depth = line.split('\\t')\n",
    "            list_depth.append(depth)\n",
    "            list_positions.append(position)\n",
    "\n",
    "count_default = 0\n",
    "final_positions_list = []\n",
    "for idx,depth in enumerate(list_depth):\n",
    "    if int(depth) < 30:\n",
    "        count_default+=1\n",
    "        final_positions_list.append(list_positions[idx])\n",
    "count_default\n"
   ]
  },
  {
   "cell_type": "code",
   "execution_count": 31,
   "metadata": {},
   "outputs": [
    {
     "name": "stdout",
     "output_type": "stream",
     "text": [
      "INSA Ns: 6457\n",
      "Snakemake Ns: 6480\n",
      "Diff: -23\n"
     ]
    }
   ],
   "source": [
    "from Bio import SeqIO, Seq\n",
    "snakemake_handle = open(\"/home/reusebio/tese/insaflu_snakemake/test_results/AllConsensus.fasta\")\n",
    "insa_handle = open(\"/home/reusebio/tese/insaflu_snakemake/test_results/AllConsensus_no_ref.fasta\")\n",
    "snakemake = SeqIO.parse(snakemake_handle, \"fasta\")\n",
    "insa = SeqIO.parse(insa_handle, \"fasta\")\n",
    "count_1 = 0\n",
    "for record in insa:\n",
    "    for nuc in record.seq:\n",
    "        if nuc == 'N':\n",
    "            count_1+=1\n",
    "print(\"INSA Ns:\",count_1)\n",
    "\n",
    "count_2 = 0\n",
    "for record in snakemake:\n",
    "    for nuc in record.seq:\n",
    "        if nuc == 'N':\n",
    "            count_2+=1\n",
    "print(\"Snakemake Ns:\",count_2)\n",
    "\n",
    "print(\"Diff:\",count_1 - count_2)\n",
    "\n"
   ]
  }
 ],
 "metadata": {
  "kernelspec": {
   "display_name": "Python 3.10.6 ('insaflu')",
   "language": "python",
   "name": "python3"
  },
  "language_info": {
   "codemirror_mode": {
    "name": "ipython",
    "version": 3
   },
   "file_extension": ".py",
   "mimetype": "text/x-python",
   "name": "python",
   "nbconvert_exporter": "python",
   "pygments_lexer": "ipython3",
   "version": "3.10.6"
  },
  "orig_nbformat": 4,
  "vscode": {
   "interpreter": {
    "hash": "1358ab5cc9fad31f5aa8938f4d80c7fc1c7ab655fec6b753e75fda91ebbb6fc0"
   }
  }
 },
 "nbformat": 4,
 "nbformat_minor": 2
}
