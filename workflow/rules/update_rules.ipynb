{
 "cells": [
  {
   "cell_type": "code",
   "execution_count": 1,
   "metadata": {},
   "outputs": [],
   "source": [
    "from pathlib import Path"
   ]
  },
  {
   "cell_type": "code",
   "execution_count": 2,
   "metadata": {},
   "outputs": [],
   "source": [
    "curr = Path('.')"
   ]
  },
  {
   "cell_type": "code",
   "execution_count": 3,
   "metadata": {},
   "outputs": [],
   "source": [
    "def update_rules(filename):\n",
    "    with open(filename, 'r') as f:\n",
    "        data = f.readlines()\n",
    "        found_rule = False\n",
    "        rule_name = \"\"\n",
    "        for idx, row in enumerate(data):\n",
    "            if found_rule:\n",
    "                if row.strip().startswith('log'):\n",
    "                    found_rule = False\n",
    "                    data[idx] = f\"    resources:\\n\\t\\tmem_mb=memory['{rule_name}']\\n{row}\"\n",
    "                else:\n",
    "                    continue\n",
    "            if row.startswith('rule '):\n",
    "                found_rule = True\n",
    "                rule_name = row.split()[1][:-1]\n",
    "                print(rule_name)\n",
    "    with open(filename, 'w') as f:\n",
    "        f.writelines(data)"
   ]
  },
  {
   "cell_type": "code",
   "execution_count": 4,
   "metadata": {},
   "outputs": [
    {
     "name": "stdout",
     "output_type": "stream",
     "text": [
      "warning_no_coverage\n",
      "freebayes\n",
      "prepare_snpeff\n",
      "snpeff\n",
      "snpeff_sample\n",
      "getCoverage\n",
      "align_pe\n",
      "align_se\n",
      "call_variant\n",
      "filter_variants\n",
      "generate_consensus\n",
      "get_depth\n",
      "iVar_depth_1_2\n",
      "iVar_depth_step_2\n",
      "create_align_file_iVar\n",
      "align_mafft_iVar\n",
      "msa_masker_iVar\n",
      "get_masked_consensus_iVar\n",
      "mask_regions_consensus_iVar\n",
      "initiate_folder\n",
      "makeproject\n",
      "assemble_consensus\n",
      "create_segments\n",
      "trimme_reads_PE\n",
      "trimme_reads_SE\n",
      "fasttree\n",
      "fasttree_proteins\n",
      "fasttree_nt\n",
      "cp_Alignment_nt_tree\n",
      "translate\n",
      "medaka_consensus\n",
      "medaka_get_depth\n",
      "medaka_split_depth\n",
      "medaka_call_variants\n",
      "medaka_annotate_variants\n",
      "mask_between_top_and_50\n",
      "bcf_consensus\n",
      "create_align_file\n",
      "msa_masker_medaka\n",
      "get_masked_consensus_medaka\n",
      "mask_regions_consensus_medaka\n",
      "raw_nanostat\n",
      "trimmed_nanostat\n",
      "not_pangolin\n",
      "pangolin\n",
      "seqret_all_nt\n",
      "seqret_all_nt_only_90\n",
      "seqret_all_consensus\n",
      "seqret_alignment_aa_gene\n",
      "alignment_nt_seg_mafft_seqret\n",
      "alignment_nt_seg_seqret\n",
      "alignment_nt_All_seqret\n",
      "alignment_nt_specific_seqret\n",
      "align_w_mafft_medaka\n",
      "align_mafft_snippy\n",
      "mafft_pre_aa\n",
      "mafft\n",
      "mafft_nt\n",
      "mafft_proteins\n",
      "cp_Alignment_nt\n",
      "snippy_pe\n",
      "snippy_se\n",
      "snippy_unzip_depth\n",
      "snippy_split_depth\n",
      "create_align_file_snippy\n",
      "msa_masker_snippy\n",
      "get_masked_consensus_snippy\n",
      "mask_regions_consensus_snippy\n",
      "nanofilt_SE\n",
      "raw_fastqc_se\n",
      "raw_fastqc_pe\n",
      "trimmed_fastqc_pe\n",
      "trimmed_fastqc_se\n",
      "warning\n",
      "iVar_align_pe\n",
      "iVar_align_se\n",
      "primers_bam\n",
      "call_variant\n",
      "generate_consensus\n",
      "get_depth\n",
      "iVar_depth_1_2\n",
      "iVar_depth_step_2\n",
      "create_align_file_iVar\n",
      "align_mafft_iVar\n",
      "msa_masker_iVar\n",
      "get_masked_consensus_iVar\n",
      "mask_regions_consensus_iVar\n",
      "abricate_se\n",
      "abricate_pe\n",
      "abricate_ont\n",
      "variant_validated\n",
      "snpeff_concat\n",
      "snpeff_concat_indels\n",
      "proportions_iSNVs_graph\n",
      "spades_se\n",
      "spades_pe\n"
     ]
    }
   ],
   "source": [
    "for f in curr.glob('./*.smk'):\n",
    "    update_rules(f.name)"
   ]
  }
 ],
 "metadata": {
  "kernelspec": {
   "display_name": "insaflu",
   "language": "python",
   "name": "python3"
  },
  "language_info": {
   "codemirror_mode": {
    "name": "ipython",
    "version": 3
   },
   "file_extension": ".py",
   "mimetype": "text/x-python",
   "name": "python",
   "nbconvert_exporter": "python",
   "pygments_lexer": "ipython3",
   "version": "3.10.9"
  },
  "orig_nbformat": 4,
  "vscode": {
   "interpreter": {
    "hash": "1358ab5cc9fad31f5aa8938f4d80c7fc1c7ab655fec6b753e75fda91ebbb6fc0"
   }
  }
 },
 "nbformat": 4,
 "nbformat_minor": 2
}
