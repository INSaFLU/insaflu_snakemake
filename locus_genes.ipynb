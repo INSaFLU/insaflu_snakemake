{
 "cells": [
  {
   "cell_type": "code",
   "execution_count": null,
   "metadata": {},
   "outputs": [],
   "source": [
    "from Bio import SeqIO\n",
    "\n",
    "def get_locus_and_genes(genbank_file: str) -> dict[str, list[str]]:\n",
    "    \"\"\"\n",
    "    The get_locus_and_genes function takes a genbank file as input and returns a dictionary of locus names (keys)\n",
    "    and gene names (values). The function is used to create the locus_gene dictionary that will be used in the\n",
    "    get_locus_and_genes function. This function is called by get_locus2gene.\n",
    "\n",
    "    :param genbank_file:str: Specify the file that contains the information about the genes in a genome\n",
    "    :return: A dictionary with locus names as keys and a list of gene names as values\n",
    "    \"\"\"\n",
    "    locus_gene: dict[str, list[str]] = {}\n",
    "    handle_gb = open(genbank_file, encoding=\"utf-8\")\n",
    "    for record in SeqIO.parse(handle_gb, \"genbank\"):\n",
    "        locus_gene[record.name] = []\n",
    "        for feat in record.features:\n",
    "            if feat.type == \"CDS\":\n",
    "                if feat.qualifiers.get(\"gene\", None) == None:\n",
    "                    locus_gene[record.name].append(feat.qualifiers.get(\"locus_tag\")[0])\n",
    "                else:\n",
    "                    locus_gene[record.name].append(feat.qualifiers[\"gene\"][0])\n",
    "    return locus_gene\n",
    "\n",
    "get_locus_and_genes(\"/home/reusebio/tese/insaflu_snakemake/reference/SARS_CoV_2_COVID_19_Wuhan_Hu_1_MN908947.gbk\")\n",
    "get_locus_and_genes(\"/home/reusebio/tese/insaflu_snakemake/reference/A_H1N1pdm09_A_Michigan_45_2015.gbk\")\n",
    "get_locus_and_genes(\"/home/reusebio/tese/insaflu_snakemake/reference/monkeypox_MPXV_USA_2022_MA001_ON563414.gbk\")"
   ]
  },
  {
   "cell_type": "code",
   "execution_count": 8,
   "metadata": {},
   "outputs": [
    {
     "name": "stdout",
     "output_type": "stream",
     "text": [
      "[['MPXV-USA_2022_MA001-001', [[851, 1592]]], ['MPXV-USA_2022_MA001-002', [[1718, 2768]]], ['MPXV-USA_2022_MA001-003', [[2857, 4624]]], ['MPXV-USA_2022_MA001-004', [[4859, 6173]]], ['MPXV-USA_2022_MA001-005', [[6941, 7160]]], ['MPXV-USA_2022_MA001-006', [[7596, 8025]]], ['MPXV-USA_2022_MA001-007', [[9005, 9119]]], ['MPXV-USA_2022_MA001-008', [[9603, 10332]]], ['MPXV-USA_2022_MA001-009', [[10494, 10875]]], ['MPXV-USA_2022_MA001-010', [[10934, 12917]]], ['MPXV-USA_2022_MA001-011', [[13050, 13245]]], ['MPXV-USA_2022_MA001-012', [[13391, 15284]]], ['MPXV-USA_2022_MA001-013', [[15941, 16394]]], ['MPXV-USA_2022_MA001-014', [[16618, 17086]]], ['MPXV-USA_2022_MA001-015', [[17229, 17850]]], ['MPXV-USA_2022_MA001-016', [[17894, 18845]]], ['MPXV-USA_2022_MA001-017', [[18775, 19156]]], ['MPXV-USA_2022_MA001-018', [[19377, 20022]]], ['MPXV-USA_2022_MA001-019', [[20067, 20421]]], ['MPXV-USA_2022_MA001-020', [[20547, 21081]]], ['MPXV-USA_2022_MA001-021', [[21121, 22450]]], ['MPXV-USA_2022_MA001-022', [[22513, 23176]]], ['MPXV-USA_2022_MA001-023', [[23280, 24135]]], ['MPXV-USA_2022_MA001-024', [[24367, 25495]]], ['MPXV-USA_2022_MA001-025', [[25652, 25784]]], ['MPXV-USA_2022_MA001-026', [[25839, 27114]]], ['MPXV-USA_2022_MA001-027', [[27141, 27972]]], ['MPXV-USA_2022_MA001-028', [[28107, 28557]]], ['MPXV-USA_2022_MA001-029', [[28619, 29279]]], ['MPXV-USA_2022_MA001-030', [[29290, 29746]]], ['MPXV-USA_2022_MA001-031', [[29762, 31211]]], ['MPXV-USA_2022_MA001-032', [[31221, 32181]]], ['MPXV-USA_2022_MA001-033', [[32211, 33168]]], ['MPXV-USA_2022_MA001-034', [[33197, 33425]]], ['MPXV-USA_2022_MA001-035', [[33441, 33666]]], ['MPXV-USA_2022_MA001-036', [[33817, 34012]]], ['MPXV-USA_2022_MA001-037', [[34068, 34707]]], ['MPXV-USA_2022_MA001-038', [[34693, 36013]]], ['MPXV-USA_2022_MA001-039', [[36035, 37100]]], ['MPXV-USA_2022_MA001-040', [[37143, 39051]]], ['MPXV-USA_2022_MA001-041', [[39093, 40212]]], ['MPXV-USA_2022_MA001-042', [[40229, 40451]]], ['MPXV-USA_2022_MA001-043', [[40500, 40650]]], ['MPXV-USA_2022_MA001-044', [[40722, 41199]]], ['MPXV-USA_2022_MA001-045', [[41205, 41901]]], ['MPXV-USA_2022_MA001-046', [[41963, 42269]]], ['MPXV-USA_2022_MA001-047', [[42265, 43705]]], ['MPXV-USA_2022_MA001-048', [[43701, 45915]]], ['MPXV-USA_2022_MA001-049', [[46038, 46500]]], ['MPXV-USA_2022_MA001-050', [[46665, 47445]]], ['MPXV-USA_2022_MA001-051', [[47562, 47964]]], ['MPXV-USA_2022_MA001-052', [[48217, 49921]]], ['MPXV-USA_2022_MA001-053', [[50002, 50503]]], ['MPXV-USA_2022_MA001-054', [[50606, 51428]]], ['MPXV-USA_2022_MA001-055', [[51434, 54455]]], ['MPXV-USA_2022_MA001-056', [[54486, 54774]]], ['MPXV-USA_2022_MA001-057', [[54768, 55158]]], ['MPXV-USA_2022_MA001-058', [[55144, 57142]]], ['MPXV-USA_2022_MA001-059', [[57188, 57515]]], ['MPXV-USA_2022_MA001-060', [[57661, 58600]]], ['MPXV-USA_2022_MA001-061', [[58606, 58828]]], ['MPXV-USA_2022_MA001-062', [[58828, 59638]]], ['MPXV-USA_2022_MA001-063', [[59719, 62035]]], ['MPXV-USA_2022_MA001-064', [[62062, 62302]]], ['MPXV-USA_2022_MA001-065', [[62320, 63469]]], ['MPXV-USA_2022_MA001-066', [[63461, 64733]]], ['MPXV-USA_2022_MA001-067', [[64738, 66769]]], ['MPXV-USA_2022_MA001-068', [[66772, 68548]]], ['MPXV-USA_2022_MA001-069', [[68544, 68880]]], ['MPXV-USA_2022_MA001-070', [[68873, 69536]]], ['MPXV-USA_2022_MA001-071', [[69505, 69880]]], ['MPXV-USA_2022_MA001-072', [[69882, 71187]]], ['MPXV-USA_2022_MA001-073', [[71195, 71387]]], ['MPXV-USA_2022_MA001-074', [[71386, 71884]]], ['MPXV-USA_2022_MA001-075', [[71848, 72964]]], ['MPXV-USA_2022_MA001-076', [[72994, 73777]]], ['MPXV-USA_2022_MA001-077', [[73796, 74819]]], ['MPXV-USA_2022_MA001-078', [[74819, 75572]]], ['MPXV-USA_2022_MA001-079', [[75603, 75882]]], ['MPXV-USA_2022_MA001-080', [[75857, 76892]]], ['MPXV-USA_2022_MA001-081', [[76916, 77672]]], ['MPXV-USA_2022_MA001-082', [[77681, 78068]]], ['MPXV-USA_2022_MA001-083', [[78024, 78483]]], ['MPXV-USA_2022_MA001-084', [[78502, 79036]]], ['MPXV-USA_2022_MA001-085', [[79101, 80103]]], ['MPXV-USA_2022_MA001-086', [[80017, 80575]]], ['MPXV-USA_2022_MA001-087', [[80634, 81036]]], ['MPXV-USA_2022_MA001-088', [[81142, 85003]]], ['MPXV-USA_2022_MA001-089', [[84999, 85515]]], ['MPXV-USA_2022_MA001-090', [[85528, 86098]]], ['MPXV-USA_2022_MA001-091', [[86101, 87076]]], ['MPXV-USA_2022_MA001-092', [[87076, 89464]]], ['MPXV-USA_2022_MA001-093', [[89648, 90281]]], ['MPXV-USA_2022_MA001-094', [[90281, 91226]]], ['MPXV-USA_2022_MA001-095', [[91263, 91704]]], ['MPXV-USA_2022_MA001-096', [[91747, 94285]]], ['MPXV-USA_2022_MA001-097', [[94243, 94684]]], ['MPXV-USA_2022_MA001-098', [[94676, 95378]]], ['MPXV-USA_2022_MA001-099', [[95377, 96034]]], ['MPXV-USA_2022_MA001-100', [[96065, 98423]]], ['MPXV-USA_2022_MA001-101', [[98462, 100376]]], ['MPXV-USA_2022_MA001-102', [[100402, 100888]]], ['MPXV-USA_2022_MA001-103', [[100850, 101765]]], ['MPXV-USA_2022_MA001-104', [[101806, 102448]]], ['MPXV-USA_2022_MA001-105', [[102444, 103191]]], ['MPXV-USA_2022_MA001-106', [[103191, 105087]]], ['MPXV-USA_2022_MA001-107', [[105121, 105985]]], ['MPXV-USA_2022_MA001-108', [[106015, 107671]]], ['MPXV-USA_2022_MA001-109', [[107694, 108147]]], ['MPXV-USA_2022_MA001-110', [[108167, 108842]]], ['MPXV-USA_2022_MA001-111', [[108838, 109072]]], ['MPXV-USA_2022_MA001-112', [[109086, 111021]]], ['MPXV-USA_2022_MA001-113', [[111073, 111919]]], ['MPXV-USA_2022_MA001-114', [[111956, 112442]]], ['MPXV-USA_2022_MA001-115', [[112438, 113557]]], ['MPXV-USA_2022_MA001-116', [[113580, 115713]]], ['MPXV-USA_2022_MA001-117', [[115766, 116645]]], ['MPXV-USA_2022_MA001-118', [[116625, 116928]]], ['MPXV-USA_2022_MA001-119', [[116928, 119604]]], ['MPXV-USA_2022_MA001-120', [[119618, 120575]]], ['MPXV-USA_2022_MA001-121', [[120576, 121149]]], ['MPXV-USA_2022_MA001-122', [[121172, 121385]]], ['MPXV-USA_2022_MA001-123', [[121490, 121763]]], ['MPXV-USA_2022_MA001-124', [[121779, 121941]]], ['MPXV-USA_2022_MA001-125', [[121930, 122215]]], ['MPXV-USA_2022_MA001-126', [[122198, 123332]]], ['MPXV-USA_2022_MA001-127', [[123334, 123949]]], ['MPXV-USA_2022_MA001-128', [[123963, 125442]]], ['MPXV-USA_2022_MA001-129', [[125422, 125656]]], ['MPXV-USA_2022_MA001-130', [[125656, 126004]]], ['MPXV-USA_2022_MA001-131', [[126002, 127283]]], ['MPXV-USA_2022_MA001-132', [[127212, 127776]]], ['MPXV-USA_2022_MA001-133', [[127795, 128944]]], ['MPXV-USA_2022_MA001-134', [[128940, 132435]]], ['MPXV-USA_2022_MA001-135', [[133216, 133444]]], ['MPXV-USA_2022_MA001-136', [[134011, 136102]]], ['MPXV-USA_2022_MA001-137', [[136147, 137677]]], ['MPXV-USA_2022_MA001-138', [[137727, 138060]]], ['MPXV-USA_2022_MA001-139', [[138060, 138501]]], ['MPXV-USA_2022_MA001-140', [[138501, 139419]]], ['MPXV-USA_2022_MA001-141', [[139381, 139618]]], ['MPXV-USA_2022_MA001-142', [[139650, 139779]]], ['MPXV-USA_2022_MA001-143', [[139777, 140215]]], ['MPXV-USA_2022_MA001-144', [[140181, 141084]]], ['MPXV-USA_2022_MA001-145', [[141111, 141657]]], ['MPXV-USA_2022_MA001-146', [[141661, 142168]]], ['MPXV-USA_2022_MA001-147', [[142211, 142742]]], ['MPXV-USA_2022_MA001-148', [[142787, 143474]]], ['MPXV-USA_2022_MA001-149', [[143525, 144332]]], ['MPXV-USA_2022_MA001-150', [[144583, 145417]]], ['MPXV-USA_2022_MA001-151', [[146122, 146788]]], ['MPXV-USA_2022_MA001-152', [[146997, 147399]]], ['MPXV-USA_2022_MA001-153', [[147436, 148027]]], ['MPXV-USA_2022_MA001-154', [[148046, 148271]]], ['MPXV-USA_2022_MA001-155', [[148364, 149405]]], ['MPXV-USA_2022_MA001-156', [[149451, 149829]]], ['MPXV-USA_2022_MA001-157', [[149818, 150541]]], ['MPXV-USA_2022_MA001-158', [[151501, 152116]]], ['MPXV-USA_2022_MA001-159', [[152684, 154364]]], ['MPXV-USA_2022_MA001-160', [[154404, 155409]]], ['MPXV-USA_2022_MA001-161', [[158464, 158860]]], ['MPXV-USA_2022_MA001-162', [[158909, 159851]]], ['MPXV-USA_2022_MA001-163', [[160614, 161526]]], ['MPXV-USA_2022_MA001-164', [[161588, 163100]]], ['MPXV-USA_2022_MA001-165', [[163325, 165011]]], ['MPXV-USA_2022_MA001-166', [[165114, 166068]]], ['MPXV-USA_2022_MA001-167', [[166153, 166660]]], ['MPXV-USA_2022_MA001-168', [[166723, 167272]]], ['MPXV-USA_2022_MA001-169', [[167326, 168130]]], ['MPXV-USA_2022_MA001-170', [[168222, 168888]]], ['MPXV-USA_2022_MA001-171', [[169662, 169965]]], ['MPXV-USA_2022_MA001-172', [[170030, 170879]]], ['MPXV-USA_2022_MA001-173', [[170980, 172015]]], ['MPXV-USA_2022_MA001-174', [[172142, 172592]]], ['MPXV-USA_2022_MA001-175', [[172677, 173220]]], ['MPXV-USA_2022_MA001-176', [[173740, 173821]]], ['MPXV-USA_2022_MA001-177', [[174528, 175584]]], ['MPXV-USA_2022_MA001-178', [[175652, 178016]]], ['MPXV-USA_2022_MA001-179', [[178157, 178412]]], ['MPXV-USA_2022_MA001-180', [[179244, 180318]]], ['MPXV-USA_2022_MA001-181', [[180496, 181069]]], ['MPXV-USA_2022_MA001-182', [[181334, 186977]]], ['MPXV-USA_2022_MA001-183', [[188656, 188974]]], ['MPXV-USA_2022_MA001-184', [[189177, 189639]]], ['MPXV-USA_2022_MA001-185', [[190075, 190297]]], ['MPXV-USA_2022_MA001-186', [[190388, 190919]]], ['MPXV-USA_2022_MA001-187', [[191032, 192346]]], ['MPXV-USA_2022_MA001-188', [[192581, 194348]]], ['MPXV-USA_2022_MA001-189', [[194437, 195487]]], ['MPXV-USA_2022_MA001-190', [[195613, 196354]]]]\n"
     ]
    }
   ],
   "source": [
    "def get_positions_gb(genbank_file):\n",
    "    \"\"\"\n",
    "    The get_positions_gb function takes a genbank file as input and returns a list of lists.\n",
    "    Each sublist contains the name of the gene, and its start and end positions in that particular\n",
    "    sequence.\n",
    "    The get_positions_gb function is called by other functions to retrieve this information.\n",
    "\n",
    "    :param genbank_file: Open the genbank file and parse it\n",
    "    :return: A list of lists\n",
    "    :doc-author: Trelent\n",
    "    \"\"\"\n",
    "    positions = []\n",
    "\n",
    "    handle_gb = open(genbank_file)\n",
    "    for record in SeqIO.parse(handle_gb, \"genbank\"):\n",
    "        for features in record.features:\n",
    "            if features.type == \"CDS\":\n",
    "                if features.qualifiers.get(\"gene\", None) == None:\n",
    "                    positions.append([features.qualifiers.get(\"locus_tag\")[0], features.location])\n",
    "                else:\n",
    "                    positions.append([features.qualifiers.get(\"gene\")[0], features.location])\n",
    "    positions_clean = []\n",
    "\n",
    "    for idx, gene in enumerate(positions):\n",
    "        positions_clean.append([gene[0], []])\n",
    "        for part in gene[1].parts:\n",
    "            positions_clean[idx][1].append([int(part.start), int(part.end)])\n",
    "    handle_gb.close()\n",
    "    return positions_clean\n",
    "\n",
    "get_positions_gb(\"/home/reusebio/tese/insaflu_snakemake/reference/SARS_CoV_2_COVID_19_Wuhan_Hu_1_MN908947.gbk\")\n",
    "get_positions_gb(\"/home/reusebio/tese/insaflu_snakemake/reference/A_H1N1pdm09_A_Michigan_45_2015.gbk\")\n",
    "print(get_positions_gb(\"/home/reusebio/tese/insaflu_snakemake/reference/monkeypox_MPXV_USA_2022_MA001_ON563414.gbk\"))"
   ]
  },
  {
   "cell_type": "code",
   "execution_count": null,
   "metadata": {},
   "outputs": [],
   "source": [
    "def get_ref_adjusted_positions(alignment, positions, locus, gene):\n",
    "    \"\"\"\n",
    "    The get_ref_adjusted_positions function takes a fasta file of aligned sequences and the positions\n",
    "    of interest for each gene, and returns the adjusted positions in reference to the first sequence.\n",
    "\n",
    "\n",
    "    :param alignment: Get the reference sequence\n",
    "    :param positions: Get the positions of each gene group in the alignment\n",
    "    :param locus: Identify the gene that is being used to get the positions\n",
    "    :param gene: Determine which gene is being analyzed\n",
    "    :return: The positions of the genes in the reference sequence\n",
    "    :doc-author: Trelent\n",
    "    \"\"\"\n",
    "    references = []\n",
    "    new_positions = []\n",
    "    ref = list(SeqIO.parse(alignment, \"fasta\"))[0]\n",
    "\n",
    "    index_list = []\n",
    "    for idx in range(len(ref)):\n",
    "        if ref[idx] != \"-\":\n",
    "            index_list.append(idx)\n",
    "    for gene_group in positions:\n",
    "        if gene_group[0] == gene:\n",
    "            for group in gene_group[1]:\n",
    "                group[0] = index_list[group[0]]\n",
    "                if group[1] >= len(\n",
    "                    index_list\n",
    "                ):  # if this is == it will throw an error cuz index list é mais pequena que o numero no group[1 ]\n",
    "                    group[1] = index_list[-1]\n",
    "                else:\n",
    "                    # print(len(index_list),group[1])\n",
    "                    group[1] = index_list[group[1]]\n",
    "            new_positions.append(gene_group)\n",
    "    return new_positions\n",
    "\n"
   ]
  }
 ],
 "metadata": {
  "kernelspec": {
   "display_name": "Python 3.10.6 ('insaflu')",
   "language": "python",
   "name": "python3"
  },
  "language_info": {
   "codemirror_mode": {
    "name": "ipython",
    "version": 3
   },
   "file_extension": ".py",
   "mimetype": "text/x-python",
   "name": "python",
   "nbconvert_exporter": "python",
   "pygments_lexer": "ipython3",
   "version": "3.10.6"
  },
  "orig_nbformat": 4,
  "vscode": {
   "interpreter": {
    "hash": "1358ab5cc9fad31f5aa8938f4d80c7fc1c7ab655fec6b753e75fda91ebbb6fc0"
   }
  }
 },
 "nbformat": 4,
 "nbformat_minor": 2
}
