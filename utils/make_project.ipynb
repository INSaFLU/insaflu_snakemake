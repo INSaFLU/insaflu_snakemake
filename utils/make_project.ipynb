{
 "cells": [
  {
   "cell_type": "code",
   "execution_count": 11,
   "metadata": {},
   "outputs": [
    {
     "data": {
      "text/plain": [
       "['ERR10039719',\n",
       " 'ERR10039716',\n",
       " 'ERR10039720',\n",
       " 'TEST_SINGLE_1',\n",
       " 'ERR10109718',\n",
       " 'ERR10039715',\n",
       " 'TEST_SINGLE_2',\n",
       " 'ERR10039723',\n",
       " 'ERR10039718']"
      ]
     },
     "execution_count": 11,
     "metadata": {},
     "output_type": "execute_result"
    }
   ],
   "source": [
    "import os \n",
    "project = \"test_project\"\n",
    "path = \"./../samples/\"\n",
    "dir_list = os.listdir(path)\n",
    "dir_list"
   ]
  },
  {
   "cell_type": "code",
   "execution_count": 12,
   "metadata": {},
   "outputs": [
    {
     "name": "stdout",
     "output_type": "stream",
     "text": [
      "['raw_fastqc', 'trimmed_reads', 'abricate', 'trimmed_fastqc', 'spades', 'snippy']\n",
      "['raw_fastqc', 'trimmed_reads', 'abricate', 'trimmed_fastqc', 'spades', 'snippy']\n",
      "['raw_fastqc', 'trimmed_reads', 'abricate', 'trimmed_fastqc', 'spades', 'snippy']\n",
      "['raw_fastqc', 'trimmed_reads', 'abricate', 'trimmed_fastqc', 'spades', 'snippy']\n",
      "['raw_fastqc', 'trimmed_reads', 'abricate', 'trimmed_fastqc', 'spades', 'snippy']\n",
      "['raw_fastqc', 'trimmed_reads', 'abricate', 'trimmed_fastqc', 'spades', 'snippy']\n",
      "['raw_fastqc', 'trimmed_reads', 'abricate', 'trimmed_fastqc', 'spades', 'snippy']\n",
      "['raw_fastqc', 'trimmed_reads', 'abricate', 'trimmed_fastqc', 'spades', 'snippy']\n",
      "['raw_fastqc', 'trimmed_reads', 'abricate', 'trimmed_fastqc', 'spades', 'snippy']\n"
     ]
    }
   ],
   "source": [
    "for file in dir_list:\n",
    "    file_path = path+file\n",
    "    file_dir = os.listdir(file_path)\n",
    "    print(file_dir)\n",
    "            "
   ]
  },
  {
   "cell_type": "code",
   "execution_count": 26,
   "metadata": {},
   "outputs": [
    {
     "name": "stderr",
     "output_type": "stream",
     "text": [
      "cp: -r not specified; omitting directory '../samples/ERR10039715/snippy/reference'\n",
      "cp: -r not specified; omitting directory '../samples/ERR10039716/snippy/reference'\n"
     ]
    }
   ],
   "source": [
    "\n",
    "\n",
    "\n",
    "    \n"
   ]
  }
 ],
 "metadata": {
  "kernelspec": {
   "display_name": "Python 3.10.6 ('read-quality-analysis')",
   "language": "python",
   "name": "python3"
  },
  "language_info": {
   "codemirror_mode": {
    "name": "ipython",
    "version": 3
   },
   "file_extension": ".py",
   "mimetype": "text/x-python",
   "name": "python",
   "nbconvert_exporter": "python",
   "pygments_lexer": "ipython3",
   "version": "3.10.6"
  },
  "orig_nbformat": 4,
  "vscode": {
   "interpreter": {
    "hash": "1eaaecc0fc7cad8928217b3a8ae4fce6109b301cc421d7441f96db6be3aa0483"
   }
  }
 },
 "nbformat": 4,
 "nbformat_minor": 2
}
