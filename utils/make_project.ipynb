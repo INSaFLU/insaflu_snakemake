{
 "cells": [
  {
   "cell_type": "code",
   "execution_count": 11,
   "metadata": {},
   "outputs": [
    {
     "data": {
      "text/plain": [
       "['ERR10039719',\n",
       " 'ERR10039716',\n",
       " 'ERR10039720',\n",
       " 'TEST_SINGLE_1',\n",
       " 'ERR10109718',\n",
       " 'ERR10039715',\n",
       " 'TEST_SINGLE_2',\n",
       " 'ERR10039723',\n",
       " 'ERR10039718']"
      ]
     },
     "execution_count": 11,
     "metadata": {},
     "output_type": "execute_result"
    }
   ],
   "source": [
    "import os \n",
    "project = \"test_project\"\n",
    "path = \"./../samples/\"\n",
    "dir_list = os.listdir(path)\n",
    "dir_list"
   ]
  },
  {
   "cell_type": "code",
   "execution_count": 12,
   "metadata": {},
   "outputs": [
    {
     "name": "stdout",
     "output_type": "stream",
     "text": [
      "['raw_fastqc', 'trimmed_reads', 'abricate', 'trimmed_fastqc', 'spades', 'snippy']\n",
      "['raw_fastqc', 'trimmed_reads', 'abricate', 'trimmed_fastqc', 'spades', 'snippy']\n",
      "['raw_fastqc', 'trimmed_reads', 'abricate', 'trimmed_fastqc', 'spades', 'snippy']\n",
      "['raw_fastqc', 'trimmed_reads', 'abricate', 'trimmed_fastqc', 'spades', 'snippy']\n",
      "['raw_fastqc', 'trimmed_reads', 'abricate', 'trimmed_fastqc', 'spades', 'snippy']\n",
      "['raw_fastqc', 'trimmed_reads', 'abricate', 'trimmed_fastqc', 'spades', 'snippy']\n",
      "['raw_fastqc', 'trimmed_reads', 'abricate', 'trimmed_fastqc', 'spades', 'snippy']\n",
      "['raw_fastqc', 'trimmed_reads', 'abricate', 'trimmed_fastqc', 'spades', 'snippy']\n",
      "['raw_fastqc', 'trimmed_reads', 'abricate', 'trimmed_fastqc', 'spades', 'snippy']\n"
     ]
    }
   ],
   "source": [
    "for file in dir_list:\n",
    "    file_path = path+file\n",
    "    file_dir = os.listdir(file_path)\n",
    "    print(file_dir)\n",
    "            "
   ]
  },
  {
   "cell_type": "code",
   "execution_count": 48,
   "metadata": {},
   "outputs": [
    {
     "data": {
      "text/plain": [
       "['snps.tab',\n",
       " 'snps.consensus.subs.fa',\n",
       " 'snps.txt',\n",
       " 'snps.aligned.fa',\n",
       " 'snps.vcf.gz',\n",
       " 'snps.consensus.fa',\n",
       " 'snps.vcf.gz.tbi',\n",
       " 'snps.raw.vcf',\n",
       " 'snps.csv',\n",
       " 'snps.bed',\n",
       " 'snps.html',\n",
       " 'snps.filt.subs.vcf.gz',\n",
       " 'snps.depth.gz.tbi',\n",
       " 'snps.log',\n",
       " 'snps.bam',\n",
       " 'snps.filt.vcf',\n",
       " 'snps.depth.gz',\n",
       " 'snps.gff',\n",
       " 'snps.bam.bai',\n",
       " 'snps.filt.subs.vcf.gz.tbi',\n",
       " 'snps.filt.subs.vcf',\n",
       " 'snps.vcf']"
      ]
     },
     "execution_count": 48,
     "metadata": {},
     "output_type": "execute_result"
    }
   ],
   "source": []
  },
  {
   "cell_type": "code",
   "execution_count": 49,
   "metadata": {},
   "outputs": [
    {
     "data": {
      "text/plain": [
       "0"
      ]
     },
     "execution_count": 49,
     "metadata": {},
     "output_type": "execute_result"
    }
   ],
   "source": [
    "   \n"
   ]
  },
  {
   "cell_type": "code",
   "execution_count": 50,
   "metadata": {},
   "outputs": [
    {
     "name": "stdout",
     "output_type": "stream",
     "text": [
      "../projects/test/sample_TEST_SINGLE_2/snippy/snps.consensus.fa\n"
     ]
    },
    {
     "data": {
      "text/plain": [
       "0"
      ]
     },
     "execution_count": 50,
     "metadata": {},
     "output_type": "execute_result"
    }
   ],
   "source": [
    "import os\n",
    "import sys\n",
    "\n",
    "SAMPLE = \"TEST_SINGLE_2\"\n",
    "\n",
    "file_path = f\"../projects/test/sample_{SAMPLE}/snippy/\"\n",
    "file_list = os.listdir(path)\n",
    "\n",
    "\n",
    "os.system(f\"mkdir ../projects/test/main_result/consensus/ -p\")\n",
    "\n",
    "if \"snps.consensus.fa\" in file_list:\n",
    "    with open(file_path+\"snps.consensus.fa\") as f:\n",
    "        lines = f.readlines()\n",
    "        lines[0] = f\">{SAMPLE}_SARS_COV_2\\n\"\n",
    "        with open(f\"../projects/test/main_result/consensus/\"+lines[0][1:-1]+\"_consensus.fasta\", \"w\") as w:\n",
    "            w.writelines(lines)\n",
    "os.system(f\"cat ../projects/test/main_result/consensus/* > ../projects/test/main_result/All_consensus.fasta\")\n",
    "\n"
   ]
  }
 ],
 "metadata": {
  "kernelspec": {
   "display_name": "Python 3.10.6 ('read-quality-analysis')",
   "language": "python",
   "name": "python3"
  },
  "language_info": {
   "codemirror_mode": {
    "name": "ipython",
    "version": 3
   },
   "file_extension": ".py",
   "mimetype": "text/x-python",
   "name": "python",
   "nbconvert_exporter": "python",
   "pygments_lexer": "ipython3",
   "version": "3.10.6"
  },
  "orig_nbformat": 4,
  "vscode": {
   "interpreter": {
    "hash": "1eaaecc0fc7cad8928217b3a8ae4fce6109b301cc421d7441f96db6be3aa0483"
   }
  }
 },
 "nbformat": 4,
 "nbformat_minor": 2
}
