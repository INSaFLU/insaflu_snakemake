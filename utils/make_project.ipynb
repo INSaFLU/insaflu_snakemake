{
 "cells": [
  {
   "cell_type": "code",
   "execution_count": 8,
   "metadata": {},
   "outputs": [
    {
     "data": {
      "text/plain": [
       "['sample_1', 'sample_2']"
      ]
     },
     "execution_count": 8,
     "metadata": {},
     "output_type": "execute_result"
    }
   ],
   "source": [
    "import os \n",
    "\n",
    "path = \"./../samples/\"\n",
    "dir_list = os.listdir(path)\n",
    "dir_list"
   ]
  },
  {
   "cell_type": "code",
   "execution_count": 9,
   "metadata": {},
   "outputs": [],
   "source": [
    "for file in dir_list:\n",
    "    file_path = path+file\n",
    "    file_dir = os.listdir(file_path)\n",
    "    if \"snps.consensus.fa\" in file_dir:\n",
    "        with open(file_path+\"/\"+\"snps.consensus.fa\") as f:\n",
    "            lines = f.readlines()\n",
    "            "
   ]
  },
  {
   "cell_type": "code",
   "execution_count": null,
   "metadata": {},
   "outputs": [],
   "source": []
  },
  {
   "cell_type": "code",
   "execution_count": null,
   "metadata": {},
   "outputs": [],
   "source": [
    "os.system(f\"cat projects/{sys.argv[1]}/concat/* > projects/{sys.argv[1]}/concat/multifile.fasta\")\n"
   ]
  }
 ],
 "metadata": {
  "kernelspec": {
   "display_name": "Python 3.10.6 ('read-quality-analysis')",
   "language": "python",
   "name": "python3"
  },
  "language_info": {
   "codemirror_mode": {
    "name": "ipython",
    "version": 3
   },
   "file_extension": ".py",
   "mimetype": "text/x-python",
   "name": "python",
   "nbconvert_exporter": "python",
   "pygments_lexer": "ipython3",
   "version": "3.10.6"
  },
  "orig_nbformat": 4,
  "vscode": {
   "interpreter": {
    "hash": "1eaaecc0fc7cad8928217b3a8ae4fce6109b301cc421d7441f96db6be3aa0483"
   }
  }
 },
 "nbformat": 4,
 "nbformat_minor": 2
}
