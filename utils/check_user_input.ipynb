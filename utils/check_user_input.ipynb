{
 "cells": [
  {
   "cell_type": "code",
   "execution_count": 5,
   "metadata": {},
   "outputs": [
    {
     "name": "stdout",
     "output_type": "stream",
     "text": [
      "going to the sample lane\n"
     ]
    }
   ],
   "source": [
    "import yaml\n",
    "\n",
    "with open(\"../config_user/run_info.yaml\", 'r') as run_info:\n",
    "    try:\n",
    "        user_info=yaml.safe_load(run_info)\n",
    "    except yaml.YAMLError as exc:\n",
    "        error = exc\n",
    "\n",
    "#user_info\n",
    "    #sample: true\n",
    "    #project: false\n",
    "    #project_name: \"test\"\n",
    "\n",
    "if user_info['sample'] and not user_info['project']:\n",
    "    execute_sample = True\n",
    "elif not user_info['sample'] and user_info['project']:\n",
    "    execute_project = True\n",
    "else:\n",
    "    error = \"Pass only one as True, sample or project.\"\n",
    "\n",
    "if execute_sample:\n",
    "    def get_output_files_se(SAMPLES):\n",
    "        return(\n",
    "            expand(\"samples/{sample}/raw_fastqc_se/{sample}_fastqc.html\", sample=SAMPLES),\n",
    "            expand(\"samples/{sample}/trimmed_fastqc_se/{sample}.trimmed_fastqc.html\", sample=SAMPLES),\n",
    "            expand(\"samples/{sample}/abricate_se/abricate_{sample}.csv\", sample=SAMPLES),\n",
    "            expand(\"samples/{sample}/snippy_se/{sample}_se/snps.tab\", sample=SAMPLES),\n",
    "        )\n",
    "\n",
    "\n",
    "    def get_output_files_pe(SAMPLES):\n",
    "        SAMPLES = SAMPLES\n",
    "        return(\n",
    "            expand(\"samples/{sample}/raw_fastqc_pe/{sample}_{direction}_fastqc.html\", sample=SAMPLES,direction=[\"1\",\"2\"]),\n",
    "            expand(\"samples/{sample}/trimmed_fastqc_pe/{sample}_{direction}.trimmed_fastqc.html\", sample=SAMPLES,direction=[\"1\",\"2\"]),\n",
    "            expand(\"samples/{sample}/abricate_pe/abricate_{sample}.csv\", sample=SAMPLES),\n",
    "            expand(\"samples/{sample}/snippy_pe/snps.tab\", sample=SAMPLES),\n",
    "        )\n",
    "if execute_project:\n",
    "    def get_output_files_se(SAMPLES, PROJECT):\n",
    "        return(\n",
    "            expand(\"samples/{sample}/raw_fastqc_se/{sample}_fastqc.html\", sample=SAMPLES),\n",
    "            expand(\"samples/{sample}/trimmed_fastqc_se/{sample}.trimmed_fastqc.html\", sample=SAMPLES),\n",
    "            expand(\"samples/{sample}/abricate_se/abricate_{sample}.csv\", sample=SAMPLES),\n",
    "            expand(\"samples/{sample}/snippy_se/{sample}_se/snps.tab\", sample=SAMPLES),\n",
    "            expand(\"projects/{project}/samples/{sample}/snippy/snps.consensus.fa\", sample=SAMPLES, project=PROJECT)\n",
    "            expand(\"projects/{project}/coverage/{sample}_coverage.tab\", sample=SAMPLES, project=PROJECT),\n",
    "            expand(\"projects/{project}/freebayes/{sample}/var.vcf\", sample=SAMPLES, project=PROJECT),\n",
    "            expand(\"projects/{project}/concat/multifile.fasta\", project=PROJECT),\n",
    "            expand(\"projects/{project}/mafft/mafft.fasta\", project=PROJECT),\n",
    "            expand(\"projects/{project}/fasttre/tree\", project=PROJECT),\n",
    "        )\n",
    "\n",
    "\n",
    "    def get_output_files_pe(SAMPLES):\n",
    "        SAMPLES = SAMPLES\n",
    "        return(\n",
    "            expand(\"samples/{sample}/raw_fastqc_pe/{sample}_{direction}_fastqc.html\", sample=SAMPLES,direction=[\"1\",\"2\"]),\n",
    "            expand(\"samples/{sample}/trimmed_fastqc_pe/{sample}_{direction}.trimmed_fastqc.html\", sample=SAMPLES,direction=[\"1\",\"2\"]),\n",
    "            expand(\"samples/{sample}/abricate_pe/abricate_{sample}.csv\", sample=SAMPLES),\n",
    "            expand(\"samples/{sample}/snippy_pe/snps.tab\", sample=SAMPLES),\n",
    "        )\n"
   ]
  }
 ],
 "metadata": {
  "kernelspec": {
   "display_name": "Python 3.10.6 ('read-quality-analysis')",
   "language": "python",
   "name": "python3"
  },
  "language_info": {
   "name": "python",
   "version": "3.10.6"
  },
  "orig_nbformat": 4,
  "vscode": {
   "interpreter": {
    "hash": "1eaaecc0fc7cad8928217b3a8ae4fce6109b301cc421d7441f96db6be3aa0483"
   }
  }
 },
 "nbformat": 4,
 "nbformat_minor": 2
}
