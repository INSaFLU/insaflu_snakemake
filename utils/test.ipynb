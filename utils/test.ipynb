{
 "cells": [
  {
   "cell_type": "code",
   "execution_count": 122,
   "metadata": {},
   "outputs": [
    {
     "name": "stdout",
     "output_type": "stream",
     "text": [
      "[['orf1ab', [[265, 13468], [13467, 21555]]], ['S', [[21562, 25384]]], ['ORF3a', [[25392, 26220]]], ['E', [[26244, 26472]]], ['M', [[26522, 27191]]], ['ORF6', [[27201, 27387]]], ['ORF7a', [[27393, 27759]]], ['ORF8', [[27893, 28259]]], ['N', [[28273, 29533]]], ['ORF10', [[29557, 29674]]]]\n"
     ]
    }
   ],
   "source": [
    "from get_gene_bank import *\n",
    "positions = get_positions_gb(\"../reference/SARS_CoV_2_Wuhan_Hu_1_MN908947.gb\")\n"
   ]
  },
  {
   "cell_type": "code",
   "execution_count": 129,
   "metadata": {},
   "outputs": [],
   "source": [
    "from Bio import SeqIO\n",
    "\n",
    "new_consensus = {}\n",
    "\n",
    "for gene in positions:\n",
    "    new_consensus[gene[0]] = {}\n",
    "    for pos in gene[1]:\n",
    "        #print(f\"This is {gene[0]} with the pos {pos[0], pos[1]}\") #This is orf1ab with the pos (265, 13468)\n",
    "        for record in SeqIO.parse(\"../projects/insaflu_comp_1/main_result/mafft/mafft_masked.fasta\", \"fasta\"):\n",
    "            try:\n",
    "                new_consensus[gene[0]][record.id] += record.seq[pos[0]:pos[1]]\n",
    "            except:\n",
    "                new_consensus[gene[0]][record.id] = record.seq[pos[0]:pos[1]]"
   ]
  },
  {
   "cell_type": "code",
   "execution_count": 140,
   "metadata": {},
   "outputs": [
    {
     "name": "stdout",
     "output_type": "stream",
     "text": [
      "[['orf1ab', [[265, 13468], [13467, 21555]]], ['S', [[21562, 25384]]], ['ORF3a', [[25392, 26220]]], ['E', [[26244, 26472]]], ['M', [[26522, 27191]]], ['ORF6', [[27201, 27387]]], ['ORF7a', [[27393, 27759]]], ['ORF8', [[27893, 28259]]], ['N', [[28273, 29533]]], ['ORF10', [[29557, 29674]]]]\n",
      "SARS_CoV_2\n",
      "MESLVPGFNEKTHVQLSLPVLQVRDVLVRGFGDSVEEVLSEARQHLKDGTCGLVEVEKGVLPQLEQPYVFIKRSDARTAPHGHVMVELVAELEGIQYGRSGETLGVLVPHVGEIPVAYRKVLLRKNGNKGAGGHSYGADLKSFDLGDELGTDPYEDFQENWNTKHSSGVTRELMRELNGGAYTRYVDNNFCGPDGYPLECIKDLLARAGKASCTLSEQLDFIDTKRGVYCCREHEHEIAWYTERSEKSYELQTPFEIKLAKKFDTFNGECPNFVFPLNSIIKTIQPRVEKKKLDGFMGRIRSVYPVASPNECNQMCLSTLMKCDHCGETSWQTGDFVKATCEFCGTENLTKEGATTCGYLPQNAVVKIYCPACHNSEVGPEHSLAEYHNESGLKTILRKGGRTIAFGGCVFSYVGCHNKCAYWVPRASANIGCNHTGVVGEGSEGLNDNLLEILQKEKVNINIVGDFKLNEEIAIILASFSASTSAFVETVKGLDYKAFKQIVESCGNFKVTKGKAKKGAWNIGEQKSILSPLYAFASEAARVVRSIFSRTLETAQNSVRVLQKAAITILDGISQYSLRLIDAMMFTSDLATNNLVVMAYITGGVVQLTSQWLTNIFGTVYEKLKPVLDWLEEKFKEGVEFLRDGWEIVKFISTCACEIVGGQIVTCAKEIKESVQTFFKLVNKFLALCADSIIIGGAKLKALNLGETFVTHSKGLYRKCVKSREETGLLMPLKAPKEIIFLEGETLPTEVLTEEVVLKTGDLQPLEQPTSEAVEAPLVGTPVCINGLMLLEIKDTEKYCALAPNMMVTNNTFTLKGGAPTKVTFGDDTVIEVQGYKSVNITFELDERIDKVLNEKCSAYTVELGTEVNEFACVVADAVIKTLQPVSELLTPLGIDLDEWSMATYYLFDESGEFKLASHMYCSFYPPDEDEEEGDCEEEEFEPSTQYEYGTEDDYQGKPLEFGATSAALQPEEEQEEDWLDDDSQQTVGQQDGSEDNQTTTIQTIVEVQPQLEMELTPVVQTIEVNSFSGYLKLTDNVYIKNADIVEEAKKVKPTVVVNAANVYLKHGGGVAGALNKATNNAMQVESDDYIATNGPLKVGGSCVLSGHNLAKHCLHVVGPNVNKGEDIQLLKSAYENFNQHEVLLAPLLSAGIFGADPIHSLRVCVDTVRTNVYLAVFDKNLYDKLVSSFLEMKSEKQVEQKIAEIPKEEVKPFITESKPSVEQRKQDDKKIKACVEEVTTTLEETKFLTENLLLYIDINGNLHPDSATLVSDIDITFLKKDAPYIVGDVVQEGVLTAVVIPTKKAGGTTEMLAKALRKVPTDNYITTYPGQGLNGYTVEEAKTVLKKCKSAFYILPSIISNEKQEILGTVSWNLREMLAHAEETRKLMPVCVETKAIVSTIQRKYKGIKIQEGVVDYGARFYFYTSKTTVASLINTLNDLNETLVTMPLGYVTHGLNLEEAARYMRSLKVPATVSVSSPDAVTAYNGYLTSSSKTPEEHFIETISLAGSYKDWSYSGQSTQLGIEFLKRGDKSVYYTSNPTTFHLDGEVITFDNLKTLLSLREVRTIKVFTTVDNINLHTQVVDMSMTYGQQFGPTYLDGADVTKIKPHNSHEGKTFYVLPNDDTLRVEAFEYYHTTDPSFLGRYMSALNHTKKWKYPQVNGLTSIKWADNNCYLATALLTLQQIELKFNPPALQDAYYRARAGEAANFCALILAYCNKTVGELGDVRETMSYLFQHANLDSCKRVLNVVCKTCGQQQTTLKGVEAVMYMGTLSYEQFKKGVQIPCTCGKQATKYLVQQESPFVMMSAPPAQYELKHGTFTCASEYTGNYQCGHYKHITSKETLYCIDGALLTKSSEYKGPITDVFYKENSYTTTIKPVTYKLDGVVCTEIDPKLDNYYKKDNSYFTEQPIDLVPNQPYPNASFDNFKFVCDNIKFADDLNQLTGYKKPASRELKVTFFPDLNGDVVAIDYKHYTPSFKKGAKLLHKPIVWHVNNATNKATYKPNTWCIRCLWSTKPVETSNSFDVLKSEDAQGMDNLACEDLKPVSEEVVENPTIQKDVLECNVKTTEVVGDIILKPANNSLKITEEVGHTDLMAAYVDNSSLTIKKPNELSRVLGLKTLATHGLAAVNSVPWDTIANYAKPFLNKVVSTTTNIVTRCLNRVCTNYMPYFFTLLLQLCTFTRSTNSRIKASMPTTIAKNTVKSVGKFCLEASFNYLKSPNFSKLINIIIWFLLLSVCLGSLIYSTAALGVLMSNLGMPSYCTGYREGYLNSTNVTIATYCTGSIPCSVCLSGLDSLDTYPSLETIQITISSFKWDLTAFGLVAEWFLAYILFTRFFYVLGLAAIMQLFFSYFAVHFISNSWLMWLIINLVQMAPISAMVRMYIFFASFYYVWKSYVHVVDGCNSSTCMMCYKRNRATRVECTTIVNGVRRSFYVYANGGKGFCKLHNWNCVNCDTFCAGSTFISDEVARDLSLQFKRPINPTDQSSYIVDSVTVKNGSIHLYFDKAGQKTYERHSLSHFVNLDNLRANNTKGSLPINVIVFDGKSKCEESSAKSASVYYSQLMCQPILLLDQALVSDVGDSAEVAVKMFDAYVNTFSSTFNVPMEKLKTLVATAEAELAKNVSLDNVLSTFISAARQGFVDSDVETKDVVECLKLSHQSDIEVTGDSCNNYMLTYNKVENMTPRDLGACIDCSARHINAQVAKSHNIALIWNVKDFMSLSEQLRKQIRSAAKKNNLPFKLTCATTRQVVNVVTTKIALKGGKIVNNWLKQLIKVTLVFLFVAAIFYLITPVHVMSKHTDFSSEIIGYKAIDGGVTRDIASTDTCFANKHADFDTWFSQRGGSYTNDKACPLIAAVITREVGFVVPGLPGTILRTTNGDFLHFLPRVFSAVGNICYTPSKLIEYTDFATSACVLAAECTIFKDASGKPVPYCYDTNVLEGSVAYESLRPDTRYVLMDGSIIQFPNTYLEGSVRVVTTFDSEYCRHGTCERSEAGVCVSTSGRWVLNNDYYRSLPGVFCGVDAVNLLTNMFTPLIQPIGALDISASIVAGGIVAIVVTCLAYYFMRFRRAFGEYSHVVAFNTLLFLMSFTVLCLTPVYSFLPGVYSVIYLYLTFYLTNDVSFLAHIQWMVMFTPLVPFWITIAYIICISTKHFYWFFSNYLKRRVVFNGVSFSTFEEAALCTFLLNKEMYLKLRSDVLLPLTQYNRYLALYNKYKYFSGAMDTTSYREAACCHLAKALNDFSNSGSDVLYQPPQTSITSAVLQSGFRKMAFPSGKVEGCMVQVTCGTTTLNGLWLDDVVYCPRHVICTSEDMLNPNYEDLLIRKSNHNFLVQAGNVQLRVIGHSMQNCVLKLKVDTANPKTPKYKFVRIQPGQTFSVLACYNGSPSGVYQCAMRPNFTIKGSFLNGSCGSVGFNIDYDCVSFCYMHHMELPTGVHAGTDLEGNFYGPFVDRQTAQAAGTDTTITVNVLAWLYAAVINGDRWFLNRFTTTLNDFNLVAMKYNYEPLTQDHVDILGPLSAQTGIAVLDMCASLKELLQNGMNGRTILGSALLEDEFTPFDVVRQCSGVTFQSAVKRTIKGTHHWLLLTILTSLLVLVQSTQWSLFFFLYENAFLPFAMGIIAMSAFAMMFVKHKHAFLCLFLLPSLATVAYFNMVYMPASWVMRIMTWLDMVDTSLSGFKLKDCVMYASAVVLLILMTARTVYDDGARRVWTLMNVLTLVYKVYYGNALDQAISMWALIISVTSNYSGVVTTVMFLARGIVFMCVEYCPIFFITGNTLQCIMLVYCFLGYFCTCYFGLFCLLNRYFRLTLGVYDYLVSTQEFRYMNSQGLLPPKNSIDAFKLNIKLLGVGGKPCIKVATVQSKMSDVKCTSVVLLSVLQQLRVESSSKLWAQCVQLHNDILLAKDTTEAFEKMVSLLSVLLSMQGAVDINKLCEEMLDNRATLQAIASEFSSLPSYAAFATAQEAYEQAVANGDSEVVLKKLKKSLNVAKSEFDRDAAMQRKLEKMADQAMTQMYKQARSEDKRAKVTSAMQTMLFTMLRKLDNDALNNIINNARDGCVPLNIIPLTTAAKLMVVIPDYNTYKNTCDGTTFTYASALWEIQQVVDADSKIVQLSEISMDNSPNLAWPLIVTALRANSAVKLQNNELSPVALRQMSCAAGTTQTACTDDNALAYYNTTKGGRFVLALLSDLQDLKWARFPKSDGTGTIYTELEPPCRFVTDTPKGPKVKYLYFIKGLNNLNRGMVLGSLAATVRLQAGNATEVPANSTVLSFCAFAVDAAKAYKDYLASGGQPITNCVKMLCTHTGTGQAITVTPEANMDQESFGGASCCLYCRCHIDHPNPKGFCDLKGKYVQIPTTCANDPVGFTLKNTVCTVCGMWKGYGCSCDQLREPMLQSADAQSFLN\n",
      "ERR10039715__SARS_COV_2\n"
     ]
    },
    {
     "ename": "TranslationError",
     "evalue": "Codon 'A--' is invalid",
     "output_type": "error",
     "traceback": [
      "\u001b[0;31m---------------------------------------------------------------------------\u001b[0m",
      "\u001b[0;31mTranslationError\u001b[0m                          Traceback (most recent call last)",
      "Cell \u001b[0;32mIn [140], line 18\u001b[0m\n\u001b[1;32m     13\u001b[0m \u001b[38;5;28;01mfor\u001b[39;00m record \u001b[38;5;129;01min\u001b[39;00m SeqIO\u001b[38;5;241m.\u001b[39mparse(\u001b[38;5;124m\"\u001b[39m\u001b[38;5;124m../projects/insaflu_comp_1/main_result/mafft/mafft_masked.fasta\u001b[39m\u001b[38;5;124m\"\u001b[39m, \u001b[38;5;124m\"\u001b[39m\u001b[38;5;124mfasta\u001b[39m\u001b[38;5;124m\"\u001b[39m):\n\u001b[1;32m     14\u001b[0m     \u001b[38;5;66;03m# try:\u001b[39;00m\n\u001b[1;32m     15\u001b[0m     \u001b[38;5;66;03m#     new_consensus[gene[0]][record.id] += record.seq[pos[0]:pos[1]].translate()\u001b[39;00m\n\u001b[1;32m     16\u001b[0m     \u001b[38;5;66;03m# except:\u001b[39;00m\n\u001b[1;32m     17\u001b[0m     \u001b[38;5;28mprint\u001b[39m(record\u001b[38;5;241m.\u001b[39mid)\n\u001b[0;32m---> 18\u001b[0m     new_consensus[gene[\u001b[38;5;241m0\u001b[39m]][record\u001b[38;5;241m.\u001b[39mid] \u001b[38;5;241m=\u001b[39m \u001b[43mrecord\u001b[49m\u001b[38;5;241;43m.\u001b[39;49m\u001b[43mseq\u001b[49m\u001b[43m[\u001b[49m\u001b[43mpos\u001b[49m\u001b[43m[\u001b[49m\u001b[38;5;241;43m0\u001b[39;49m\u001b[43m]\u001b[49m\u001b[43m:\u001b[49m\u001b[43mpos\u001b[49m\u001b[43m[\u001b[49m\u001b[38;5;241;43m1\u001b[39;49m\u001b[43m]\u001b[49m\u001b[43m]\u001b[49m\u001b[38;5;241;43m.\u001b[39;49m\u001b[43mtranslate\u001b[49m\u001b[43m(\u001b[49m\u001b[43m)\u001b[49m\n\u001b[1;32m     19\u001b[0m     \u001b[38;5;28mprint\u001b[39m(new_consensus[gene[\u001b[38;5;241m0\u001b[39m]][record\u001b[38;5;241m.\u001b[39mid])\n",
      "File \u001b[0;32m~/mambaforge/envs/insaflu/lib/python3.10/site-packages/Bio/Seq.py:1377\u001b[0m, in \u001b[0;36m_SeqAbstractBaseClass.translate\u001b[0;34m(self, table, stop_symbol, to_stop, cds, gap)\u001b[0m\n\u001b[1;32m   1369\u001b[0m         warnings\u001b[39m.\u001b[39mwarn(\n\u001b[1;32m   1370\u001b[0m             \u001b[39m\"\u001b[39m\u001b[39mPartial codon, len(sequence) not a multiple of three. \u001b[39m\u001b[39m\"\u001b[39m\n\u001b[1;32m   1371\u001b[0m             \u001b[39m\"\u001b[39m\u001b[39mThis may become an error in future.\u001b[39m\u001b[39m\"\u001b[39m,\n\u001b[1;32m   1372\u001b[0m             BiopythonWarning,\n\u001b[1;32m   1373\u001b[0m         )\n\u001b[1;32m   1374\u001b[0m     \u001b[39mreturn\u001b[39;00m Seq(\u001b[39mNone\u001b[39;00m, n \u001b[39m/\u001b[39m\u001b[39m/\u001b[39m \u001b[39m3\u001b[39m)\n\u001b[1;32m   1376\u001b[0m \u001b[39mreturn\u001b[39;00m \u001b[39mself\u001b[39m\u001b[39m.\u001b[39m\u001b[39m__class__\u001b[39m(\n\u001b[0;32m-> 1377\u001b[0m     _translate_str(\u001b[39mstr\u001b[39;49m(\u001b[39mself\u001b[39;49m), table, stop_symbol, to_stop, cds, gap\u001b[39m=\u001b[39;49mgap)\n\u001b[1;32m   1378\u001b[0m )\n",
      "File \u001b[0;32m~/mambaforge/envs/insaflu/lib/python3.10/site-packages/Bio/Seq.py:3011\u001b[0m, in \u001b[0;36m_translate_str\u001b[0;34m(sequence, table, stop_symbol, to_stop, cds, pos_stop, gap)\u001b[0m\n\u001b[1;32m   3009\u001b[0m             amino_acids\u001b[39m.\u001b[39mappend(gap)\n\u001b[1;32m   3010\u001b[0m         \u001b[39melse\u001b[39;00m:\n\u001b[0;32m-> 3011\u001b[0m             \u001b[39mraise\u001b[39;00m CodonTable\u001b[39m.\u001b[39mTranslationError(\n\u001b[1;32m   3012\u001b[0m                 \u001b[39mf\u001b[39m\u001b[39m\"\u001b[39m\u001b[39mCodon \u001b[39m\u001b[39m'\u001b[39m\u001b[39m{\u001b[39;00mcodon\u001b[39m}\u001b[39;00m\u001b[39m'\u001b[39m\u001b[39m is invalid\u001b[39m\u001b[39m\"\u001b[39m\n\u001b[1;32m   3013\u001b[0m             ) \u001b[39mfrom\u001b[39;00m \u001b[39mNone\u001b[39m\n\u001b[1;32m   3014\u001b[0m \u001b[39mreturn\u001b[39;00m \u001b[39m\"\u001b[39m\u001b[39m\"\u001b[39m\u001b[39m.\u001b[39mjoin(amino_acids)\n",
      "\u001b[0;31mTranslationError\u001b[0m: Codon 'A--' is invalid"
     ]
    }
   ],
   "source": [
    "\n",
    "#with translate\n",
    "from get_gene_bank import *\n",
    "positions = get_positions_gb(\"../reference/SARS_CoV_2_Wuhan_Hu_1_MN908947.gb\")\n",
    "\n",
    "from Bio import SeqIO\n",
    "from Bio.Seq import Seq\n",
    "new_consensus = {}\n",
    "\n",
    "for gene in positions:\n",
    "    new_consensus[gene[0]] = {}\n",
    "    for pos in gene[1]:\n",
    "        #print(f\"This is {gene[0]} with the pos {pos[0], pos[1]}\") #This is orf1ab with the pos (265, 13468)\n",
    "        for record in SeqIO.parse(\"../projects/insaflu_comp_1/main_result/mafft/mafft_masked.fasta\", \"fasta\"):\n",
    "            # try:\n",
    "            #     new_consensus[gene[0]][record.id] += record.seq[pos[0]:pos[1]].translate()\n",
    "            # except:\n",
    "            print(record.id)\n",
    "            new_consensus[gene[0]][record.id] = record.seq[pos[0]:pos[1]].translate()\n",
    "            print(new_consensus[gene[0]][record.id])"
   ]
  },
  {
   "cell_type": "code",
   "execution_count": 114,
   "metadata": {},
   "outputs": [],
   "source": [
    "def write_fasta(dictionary, filename):\n",
    "    import textwrap\n",
    "    with open(filename, \"w\") as fasta:\n",
    "        for key, value in dictionary.items():\n",
    "            fasta.write(f\">{key}\\n\")\n",
    "            fasta.write(\"\\n\".join(textwrap.wrap(str(value), 70)))\n",
    "            fasta.write(\"\\n\")\n",
    "    print(f\"{filename} out!\")\n",
    "            \n"
   ]
  },
  {
   "cell_type": "code",
   "execution_count": 115,
   "metadata": {},
   "outputs": [
    {
     "name": "stdout",
     "output_type": "stream",
     "text": [
      "testfolder/orf1ab.fasta out!\n",
      "testfolder/S.fasta out!\n",
      "testfolder/ORF3a.fasta out!\n",
      "testfolder/E.fasta out!\n",
      "testfolder/M.fasta out!\n",
      "testfolder/ORF6.fasta out!\n",
      "testfolder/ORF7a.fasta out!\n",
      "testfolder/ORF8.fasta out!\n",
      "testfolder/N.fasta out!\n",
      "testfolder/ORF10.fasta out!\n"
     ]
    }
   ],
   "source": [
    "for gene in new_consensus:\n",
    "    write_fasta(new_consensus[gene], 'testfolder/'+gene+'.fasta')"
   ]
  },
  {
   "cell_type": "code",
   "execution_count": 117,
   "metadata": {},
   "outputs": [
    {
     "name": "stderr",
     "output_type": "stream",
     "text": [
      "/home/reusebio/mambaforge/envs/insaflu/lib/python3.10/site-packages/Bio/Seq.py:2979: BiopythonWarning: Partial codon, len(sequence) not a multiple of three. Explicitly trim the sequence or add trailing N before translation. This may become an error in future.\n",
      "  warnings.warn(\n"
     ]
    },
    {
     "ename": "TranslationError",
     "evalue": "Codon 'MES' is invalid",
     "output_type": "error",
     "traceback": [
      "\u001b[0;31m---------------------------------------------------------------------------\u001b[0m",
      "\u001b[0;31mTranslationError\u001b[0m                          Traceback (most recent call last)",
      "Cell \u001b[0;32mIn [117], line 3\u001b[0m\n\u001b[1;32m      1\u001b[0m \u001b[38;5;28;01mfor\u001b[39;00m gene \u001b[38;5;129;01min\u001b[39;00m new_consensus:\n\u001b[1;32m      2\u001b[0m     \u001b[38;5;28;01mfor\u001b[39;00m \u001b[38;5;28mid\u001b[39m \u001b[38;5;129;01min\u001b[39;00m new_consensus[gene]:\n\u001b[0;32m----> 3\u001b[0m         new_consensus[gene][\u001b[38;5;28mid\u001b[39m] \u001b[38;5;241m=\u001b[39m \u001b[43mnew_consensus\u001b[49m\u001b[43m[\u001b[49m\u001b[43mgene\u001b[49m\u001b[43m]\u001b[49m\u001b[43m[\u001b[49m\u001b[38;5;28;43mid\u001b[39;49m\u001b[43m]\u001b[49m\u001b[38;5;241;43m.\u001b[39;49m\u001b[43mtranslate\u001b[49m\u001b[43m(\u001b[49m\u001b[43m)\u001b[49m\n\u001b[1;32m      4\u001b[0m         \u001b[38;5;28mprint\u001b[39m(new_consensus[gene][\u001b[38;5;28mid\u001b[39m])\n\u001b[1;32m      5\u001b[0m     write_fasta(new_consensus[gene], \u001b[38;5;124m'\u001b[39m\u001b[38;5;124mtestfolder/\u001b[39m\u001b[38;5;124m'\u001b[39m\u001b[38;5;241m+\u001b[39mgene\u001b[38;5;241m+\u001b[39m\u001b[38;5;124m'\u001b[39m\u001b[38;5;124maa.fasta\u001b[39m\u001b[38;5;124m'\u001b[39m)\n",
      "File \u001b[0;32m~/mambaforge/envs/insaflu/lib/python3.10/site-packages/Bio/Seq.py:1377\u001b[0m, in \u001b[0;36m_SeqAbstractBaseClass.translate\u001b[0;34m(self, table, stop_symbol, to_stop, cds, gap)\u001b[0m\n\u001b[1;32m   1369\u001b[0m         warnings\u001b[39m.\u001b[39mwarn(\n\u001b[1;32m   1370\u001b[0m             \u001b[39m\"\u001b[39m\u001b[39mPartial codon, len(sequence) not a multiple of three. \u001b[39m\u001b[39m\"\u001b[39m\n\u001b[1;32m   1371\u001b[0m             \u001b[39m\"\u001b[39m\u001b[39mThis may become an error in future.\u001b[39m\u001b[39m\"\u001b[39m,\n\u001b[1;32m   1372\u001b[0m             BiopythonWarning,\n\u001b[1;32m   1373\u001b[0m         )\n\u001b[1;32m   1374\u001b[0m     \u001b[39mreturn\u001b[39;00m Seq(\u001b[39mNone\u001b[39;00m, n \u001b[39m/\u001b[39m\u001b[39m/\u001b[39m \u001b[39m3\u001b[39m)\n\u001b[1;32m   1376\u001b[0m \u001b[39mreturn\u001b[39;00m \u001b[39mself\u001b[39m\u001b[39m.\u001b[39m\u001b[39m__class__\u001b[39m(\n\u001b[0;32m-> 1377\u001b[0m     _translate_str(\u001b[39mstr\u001b[39;49m(\u001b[39mself\u001b[39;49m), table, stop_symbol, to_stop, cds, gap\u001b[39m=\u001b[39;49mgap)\n\u001b[1;32m   1378\u001b[0m )\n",
      "File \u001b[0;32m~/mambaforge/envs/insaflu/lib/python3.10/site-packages/Bio/Seq.py:3011\u001b[0m, in \u001b[0;36m_translate_str\u001b[0;34m(sequence, table, stop_symbol, to_stop, cds, pos_stop, gap)\u001b[0m\n\u001b[1;32m   3009\u001b[0m             amino_acids\u001b[39m.\u001b[39mappend(gap)\n\u001b[1;32m   3010\u001b[0m         \u001b[39melse\u001b[39;00m:\n\u001b[0;32m-> 3011\u001b[0m             \u001b[39mraise\u001b[39;00m CodonTable\u001b[39m.\u001b[39mTranslationError(\n\u001b[1;32m   3012\u001b[0m                 \u001b[39mf\u001b[39m\u001b[39m\"\u001b[39m\u001b[39mCodon \u001b[39m\u001b[39m'\u001b[39m\u001b[39m{\u001b[39;00mcodon\u001b[39m}\u001b[39;00m\u001b[39m'\u001b[39m\u001b[39m is invalid\u001b[39m\u001b[39m\"\u001b[39m\n\u001b[1;32m   3013\u001b[0m             ) \u001b[39mfrom\u001b[39;00m \u001b[39mNone\u001b[39m\n\u001b[1;32m   3014\u001b[0m \u001b[39mreturn\u001b[39;00m \u001b[39m\"\u001b[39m\u001b[39m\"\u001b[39m\u001b[39m.\u001b[39mjoin(amino_acids)\n",
      "\u001b[0;31mTranslationError\u001b[0m: Codon 'MES' is invalid"
     ]
    }
   ],
   "source": [
    "for gene in new_consensus:\n",
    "    for id in new_consensus[gene]:\n",
    "        new_consensus[gene][id] = new_consensus[gene][id].translate()\n",
    "        print(new_consensus[gene][id])\n",
    "    write_fasta(new_consensus[gene], 'testfolder/'+gene+'aa.fasta')"
   ]
  },
  {
   "cell_type": "code",
   "execution_count": 120,
   "metadata": {},
   "outputs": [
    {
     "name": "stderr",
     "output_type": "stream",
     "text": [
      "/home/reusebio/mambaforge/envs/insaflu/lib/python3.10/site-packages/Bio/Seq.py:2979: BiopythonWarning: Partial codon, len(sequence) not a multiple of three. Explicitly trim the sequence or add trailing N before translation. This may become an error in future.\n",
      "  warnings.warn(\n"
     ]
    },
    {
     "ename": "TranslationError",
     "evalue": "Codon 'MES' is invalid",
     "output_type": "error",
     "traceback": [
      "\u001b[0;31m---------------------------------------------------------------------------\u001b[0m",
      "\u001b[0;31mTranslationError\u001b[0m                          Traceback (most recent call last)",
      "Cell \u001b[0;32mIn [120], line 1\u001b[0m\n\u001b[0;32m----> 1\u001b[0m \u001b[43mnew_consensus\u001b[49m\u001b[43m[\u001b[49m\u001b[38;5;124;43m'\u001b[39;49m\u001b[38;5;124;43morf1ab\u001b[39;49m\u001b[38;5;124;43m'\u001b[39;49m\u001b[43m]\u001b[49m\u001b[43m[\u001b[49m\u001b[38;5;124;43m'\u001b[39;49m\u001b[38;5;124;43mSARS_CoV_2\u001b[39;49m\u001b[38;5;124;43m'\u001b[39;49m\u001b[43m]\u001b[49m\u001b[38;5;241;43m.\u001b[39;49m\u001b[43mtranslate\u001b[49m\u001b[43m(\u001b[49m\u001b[43m)\u001b[49m\n",
      "File \u001b[0;32m~/mambaforge/envs/insaflu/lib/python3.10/site-packages/Bio/Seq.py:1377\u001b[0m, in \u001b[0;36m_SeqAbstractBaseClass.translate\u001b[0;34m(self, table, stop_symbol, to_stop, cds, gap)\u001b[0m\n\u001b[1;32m   1369\u001b[0m         warnings\u001b[39m.\u001b[39mwarn(\n\u001b[1;32m   1370\u001b[0m             \u001b[39m\"\u001b[39m\u001b[39mPartial codon, len(sequence) not a multiple of three. \u001b[39m\u001b[39m\"\u001b[39m\n\u001b[1;32m   1371\u001b[0m             \u001b[39m\"\u001b[39m\u001b[39mThis may become an error in future.\u001b[39m\u001b[39m\"\u001b[39m,\n\u001b[1;32m   1372\u001b[0m             BiopythonWarning,\n\u001b[1;32m   1373\u001b[0m         )\n\u001b[1;32m   1374\u001b[0m     \u001b[39mreturn\u001b[39;00m Seq(\u001b[39mNone\u001b[39;00m, n \u001b[39m/\u001b[39m\u001b[39m/\u001b[39m \u001b[39m3\u001b[39m)\n\u001b[1;32m   1376\u001b[0m \u001b[39mreturn\u001b[39;00m \u001b[39mself\u001b[39m\u001b[39m.\u001b[39m\u001b[39m__class__\u001b[39m(\n\u001b[0;32m-> 1377\u001b[0m     _translate_str(\u001b[39mstr\u001b[39;49m(\u001b[39mself\u001b[39;49m), table, stop_symbol, to_stop, cds, gap\u001b[39m=\u001b[39;49mgap)\n\u001b[1;32m   1378\u001b[0m )\n",
      "File \u001b[0;32m~/mambaforge/envs/insaflu/lib/python3.10/site-packages/Bio/Seq.py:3011\u001b[0m, in \u001b[0;36m_translate_str\u001b[0;34m(sequence, table, stop_symbol, to_stop, cds, pos_stop, gap)\u001b[0m\n\u001b[1;32m   3009\u001b[0m             amino_acids\u001b[39m.\u001b[39mappend(gap)\n\u001b[1;32m   3010\u001b[0m         \u001b[39melse\u001b[39;00m:\n\u001b[0;32m-> 3011\u001b[0m             \u001b[39mraise\u001b[39;00m CodonTable\u001b[39m.\u001b[39mTranslationError(\n\u001b[1;32m   3012\u001b[0m                 \u001b[39mf\u001b[39m\u001b[39m\"\u001b[39m\u001b[39mCodon \u001b[39m\u001b[39m'\u001b[39m\u001b[39m{\u001b[39;00mcodon\u001b[39m}\u001b[39;00m\u001b[39m'\u001b[39m\u001b[39m is invalid\u001b[39m\u001b[39m\"\u001b[39m\n\u001b[1;32m   3013\u001b[0m             ) \u001b[39mfrom\u001b[39;00m \u001b[39mNone\u001b[39m\n\u001b[1;32m   3014\u001b[0m \u001b[39mreturn\u001b[39;00m \u001b[39m\"\u001b[39m\u001b[39m\"\u001b[39m\u001b[39m.\u001b[39mjoin(amino_acids)\n",
      "\u001b[0;31mTranslationError\u001b[0m: Codon 'MES' is invalid"
     ]
    }
   ],
   "source": [
    "new_consensus['orf1ab']['SARS_CoV_2'].translate()"
   ]
  }
 ],
 "metadata": {
  "kernelspec": {
   "display_name": "Python 3.10.6 ('insaflu')",
   "language": "python",
   "name": "python3"
  },
  "language_info": {
   "codemirror_mode": {
    "name": "ipython",
    "version": 3
   },
   "file_extension": ".py",
   "mimetype": "text/x-python",
   "name": "python",
   "nbconvert_exporter": "python",
   "pygments_lexer": "ipython3",
   "version": "3.10.6"
  },
  "orig_nbformat": 4,
  "vscode": {
   "interpreter": {
    "hash": "1358ab5cc9fad31f5aa8938f4d80c7fc1c7ab655fec6b753e75fda91ebbb6fc0"
   }
  }
 },
 "nbformat": 4,
 "nbformat_minor": 2
}
